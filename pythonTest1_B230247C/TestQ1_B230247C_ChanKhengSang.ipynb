{
 "cells": [
  {
   "cell_type": "code",
   "execution_count": 35,
   "id": "1153705a-fe91-44dd-a72e-f46070867152",
   "metadata": {},
   "outputs": [
    {
     "name": "stdout",
     "output_type": "stream",
     "text": [
      "Welcome to Hangman!\n",
      "\n",
      "_ _ _ _ _ _ _\n",
      "\n",
      "     -----\n",
      "     |   |\n",
      "         |\n",
      "         |\n",
      "         |\n",
      "         |\n",
      "    =======\n",
      "    \n",
      "Incorrect guesses: 0\n"
     ]
    },
    {
     "name": "stdin",
     "output_type": "stream",
     "text": [
      "Guess a letter:  a\n"
     ]
    },
    {
     "name": "stdout",
     "output_type": "stream",
     "text": [
      "Good guess!\n",
      "\n",
      "_ a _ _ _ a _\n",
      "\n",
      "     -----\n",
      "     |   |\n",
      "         |\n",
      "         |\n",
      "         |\n",
      "         |\n",
      "    =======\n",
      "    \n",
      "Incorrect guesses: 0\n"
     ]
    },
    {
     "name": "stdin",
     "output_type": "stream",
     "text": [
      "Guess a letter:  a\n"
     ]
    },
    {
     "name": "stdout",
     "output_type": "stream",
     "text": [
      "You've already guessed that letter.\n",
      "\n",
      "_ a _ _ _ a _\n",
      "\n",
      "     -----\n",
      "     |   |\n",
      "     O   |\n",
      "         |\n",
      "         |\n",
      "         |\n",
      "    =======\n",
      "    \n",
      "Incorrect guesses: 1\n"
     ]
    },
    {
     "name": "stdin",
     "output_type": "stream",
     "text": [
      "Guess a letter:  a\n"
     ]
    },
    {
     "name": "stdout",
     "output_type": "stream",
     "text": [
      "You've already guessed that letter.\n",
      "\n",
      "_ a _ _ _ a _\n",
      "\n",
      "     -----\n",
      "     |   |\n",
      "     O   |\n",
      "     |   |\n",
      "         |\n",
      "         |\n",
      "    =======\n",
      "    \n",
      "Incorrect guesses: 2\n"
     ]
    },
    {
     "name": "stdin",
     "output_type": "stream",
     "text": [
      "Guess a letter:  a\n"
     ]
    },
    {
     "name": "stdout",
     "output_type": "stream",
     "text": [
      "You've already guessed that letter.\n",
      "\n",
      "_ a _ _ _ a _\n",
      "\n",
      "     -----\n",
      "     |   |\n",
      "     O   |\n",
      "    /|   |\n",
      "         |\n",
      "         |\n",
      "    =======\n",
      "    \n",
      "Incorrect guesses: 3\n"
     ]
    },
    {
     "name": "stdin",
     "output_type": "stream",
     "text": [
      "Guess a letter:  a\n"
     ]
    },
    {
     "name": "stdout",
     "output_type": "stream",
     "text": [
      "You've already guessed that letter.\n",
      "\n",
      "_ a _ _ _ a _\n",
      "\n",
      "     -----\n",
      "     |   |\n",
      "     O   |\n",
      "    /|\\  |\n",
      "         |\n",
      "         |\n",
      "    =======\n",
      "    \n",
      "Incorrect guesses: 4\n"
     ]
    },
    {
     "name": "stdin",
     "output_type": "stream",
     "text": [
      "Guess a letter:  a\n"
     ]
    },
    {
     "name": "stdout",
     "output_type": "stream",
     "text": [
      "You've already guessed that letter.\n",
      "\n",
      "_ a _ _ _ a _\n",
      "\n",
      "     -----\n",
      "     |   |\n",
      "     O   |\n",
      "    /|\\  |\n",
      "    /    |\n",
      "         |\n",
      "    =======\n",
      "    \n",
      "Incorrect guesses: 5\n"
     ]
    },
    {
     "name": "stdin",
     "output_type": "stream",
     "text": [
      "Guess a letter:  aa\n"
     ]
    },
    {
     "name": "stdout",
     "output_type": "stream",
     "text": [
      "Incorrect guess.\n",
      "\n",
      "     -----\n",
      "     |   |\n",
      "     O   |\n",
      "    /|\\  |\n",
      "    / \\  |\n",
      "         |\n",
      "    =======\n",
      "    \n",
      "\n",
      "Sorry, you ran out of guesses. The word was: hangman\n"
     ]
    }
   ],
   "source": [
    "import random\n",
    "\n",
    "# The words that player need to guess\n",
    "words = [\"programming\", \"hangman\", \"computer\", \"python\", \"software\", \"passing\", \"playing\", \"examination\"]\n",
    "\n",
    "# Display when the game start\n",
    "# will add new line when user guess wrong\n",
    "hangman_stages = [\n",
    "    \"\"\"\n",
    "     -----\n",
    "     |   |\n",
    "         |\n",
    "         |\n",
    "         |\n",
    "         |\n",
    "    =======\n",
    "    \"\"\",\n",
    "    \"\"\"\n",
    "     -----\n",
    "     |   |\n",
    "     O   |\n",
    "         |\n",
    "         |\n",
    "         |\n",
    "    =======\n",
    "    \"\"\",\n",
    "    \"\"\"\n",
    "     -----\n",
    "     |   |\n",
    "     O   |\n",
    "     |   |\n",
    "         |\n",
    "         |\n",
    "    =======\n",
    "    \"\"\",\n",
    "    \"\"\"\n",
    "     -----\n",
    "     |   |\n",
    "     O   |\n",
    "    /|   |\n",
    "         |\n",
    "         |\n",
    "    =======\n",
    "    \"\"\",\n",
    "    \"\"\"\n",
    "     -----\n",
    "     |   |\n",
    "     O   |\n",
    "    /|\\\\  |\n",
    "         |\n",
    "         |\n",
    "    =======\n",
    "    \"\"\",\n",
    "    \"\"\"\n",
    "     -----\n",
    "     |   |\n",
    "     O   |\n",
    "    /|\\\\  |\n",
    "    /    |\n",
    "         |\n",
    "    =======\n",
    "    \"\"\",\n",
    "    \"\"\"\n",
    "     -----\n",
    "     |   |\n",
    "     O   |\n",
    "    /|\\\\  |\n",
    "    / \\\\  |\n",
    "         |\n",
    "    =======\n",
    "    \"\"\"\n",
    "]\n",
    "\n",
    "# display the number of alphabet that the user need to guess\n",
    "def display_alphabets(word, guessed_letters):\n",
    "    return \" \".join([letter if letter in guessed_letters else \"_\" for letter in word])\n",
    "\n",
    "# Check if all the word is being guessed\n",
    "def win_condition(word, guessed_letters):\n",
    "    return all(letter in guessed_letters for letter in word)\n",
    "\n",
    "# the game will randomly choose one words randomly for the user to guess\n",
    "def hangman_game():\n",
    "    # Randomly choosing one of the words for the user to guess\n",
    "    word = random.choice(words)\n",
    "    \n",
    "    # setting variables for game purpose\n",
    "    guessed_letters = []\n",
    "    incorrect_guesses = 0\n",
    "    # the maximum of incorrect chance is set to 6\n",
    "    max_incorrect_guesses = 6  \n",
    "\n",
    "    print(\"Welcome to Hangman!\")\n",
    "\n",
    "    # if the incorrect guesses is not bigger than 6,\n",
    "    # the game will continue running\n",
    "    while incorrect_guesses < max_incorrect_guesses:\n",
    "        # Display the correct guessed words\n",
    "        print(\"\\n\" + display_alphabets(word, guessed_letters))\n",
    "        \n",
    "        # Display the current hangman level\n",
    "        print(hangman_stages[incorrect_guesses])\n",
    "        \n",
    "        # Display the number of incorrect guesses when the user guess a wrong alphabet\n",
    "        print(f\"Incorrect guesses: {incorrect_guesses}\")\n",
    "        \n",
    "        # Prompt the user to guess an alphabet\n",
    "        guess = input(\"Guess a letter: \").lower()\n",
    "        \n",
    "        # Check if the letter has already been guessed previously\n",
    "        # if it is being guessed the message will shown \"You've already guessed that letter\"\n",
    "        if guess in guessed_letters or guess in [letter for letter in guessed_letters if letter not in word]:\n",
    "            print(\"You've already guessed that letter.\")\n",
    "            incorrect_guesses += 1\n",
    "            # if the alphabet being guessed is correct\n",
    "        elif guess in word:\n",
    "            print(\"Good guess!\")\n",
    "            guessed_letters.append(guess)\n",
    "            # if the guess that the user input is wrong\n",
    "            # the number of incorrect_gusses will increase\n",
    "        else:\n",
    "            print(\"Incorrect guess.\")\n",
    "            guessed_letters.append(guess)\n",
    "            incorrect_guesses += 1\n",
    "        \n",
    "        # the win condition for hangman game\n",
    "        # when the user have guess all the alphabets correctly will trigger this function\n",
    "        if win_condition(word, guessed_letters):\n",
    "            print(f\"\\nCongratulations! You guessed the word: {word}\")\n",
    "            break\n",
    "    else:\n",
    "        # the lost condition for hangman game\n",
    "        # when the incorrect_guesses have reached 6 will trigger this function\n",
    "        print(hangman_stages[incorrect_guesses])\n",
    "        print(f\"\\nSorry, you ran out of guesses. The word was: {word}\")\n",
    "\n",
    "# Start the game\n",
    "hangman_game()\n"
   ]
  }
 ],
 "metadata": {
  "kernelspec": {
   "display_name": "Python 3 (ipykernel)",
   "language": "python",
   "name": "python3"
  },
  "language_info": {
   "codemirror_mode": {
    "name": "ipython",
    "version": 3
   },
   "file_extension": ".py",
   "mimetype": "text/x-python",
   "name": "python",
   "nbconvert_exporter": "python",
   "pygments_lexer": "ipython3",
   "version": "3.11.7"
  }
 },
 "nbformat": 4,
 "nbformat_minor": 5
}
